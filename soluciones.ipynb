{
 "cells": [
  {
   "attachments": {},
   "cell_type": "markdown",
   "metadata": {},
   "source": [
    "## Ejecicios de práctica para entrevista técnica\n"
   ]
  },
  {
   "attachments": {},
   "cell_type": "markdown",
   "metadata": {},
   "source": [
    "1. Definir una función max() que tome como argumento dos números y devuelva el mayor de ellos. \n",
    "(Es cierto que python tiene una función max() incorporada, pero hacerla nosotros mismos es un muy buen ejercicio.)"
   ]
  },
  {
   "cell_type": "code",
   "execution_count": 5,
   "metadata": {},
   "outputs": [
    {
     "ename": "Exception",
     "evalue": "Does not exit a graeter number",
     "output_type": "error",
     "traceback": [
      "\u001b[1;31m---------------------------------------------------------------------------\u001b[0m",
      "\u001b[1;31mException\u001b[0m                                 Traceback (most recent call last)",
      "Cell \u001b[1;32mIn[5], line 21\u001b[0m\n\u001b[0;32m     18\u001b[0m     \u001b[39melse\u001b[39;00m:\n\u001b[0;32m     19\u001b[0m         \u001b[39mraise\u001b[39;00m \u001b[39mException\u001b[39;00m(\u001b[39m'\u001b[39m\u001b[39mDoes not exit a graeter number\u001b[39m\u001b[39m'\u001b[39m)\n\u001b[1;32m---> 21\u001b[0m cus_max(\u001b[39m4\u001b[39;49m, \u001b[39m4\u001b[39;49m)\n",
      "Cell \u001b[1;32mIn[5], line 19\u001b[0m, in \u001b[0;36mcus_max\u001b[1;34m(n1, n2)\u001b[0m\n\u001b[0;32m     17\u001b[0m     \u001b[39mreturn\u001b[39;00m(n2)\n\u001b[0;32m     18\u001b[0m \u001b[39melse\u001b[39;00m:\n\u001b[1;32m---> 19\u001b[0m     \u001b[39mraise\u001b[39;00m \u001b[39mException\u001b[39;00m(\u001b[39m'\u001b[39m\u001b[39mDoes not exit a graeter number\u001b[39m\u001b[39m'\u001b[39m)\n",
      "\u001b[1;31mException\u001b[0m: Does not exit a graeter number"
     ]
    }
   ],
   "source": [
    "def cus_max(n1 = int, n2 = int):\n",
    "    '''\n",
    "    Function that allows to enter two integers and \n",
    "    returns the graster.\n",
    "\n",
    "    Args:\n",
    "    n1: The first number to compare\n",
    "    n2: The second number to compare\n",
    "\n",
    "    Return:\n",
    "    The greater number of the two compared\n",
    "    '''\n",
    "\n",
    "    if n1 > n2:\n",
    "        return(n1)\n",
    "    elif n2 > n1:\n",
    "        return(n2)\n",
    "    else:\n",
    "        raise Exception('Does not exit a graeter number')\n",
    "\n",
    "cus_max(4, 4)"
   ]
  },
  {
   "attachments": {},
   "cell_type": "markdown",
   "metadata": {},
   "source": [
    "2. Definir una función max_de_tres(), que tome tres números como argumentos \n",
    "y devuelva el mayor de ellos."
   ]
  },
  {
   "cell_type": "code",
   "execution_count": 21,
   "metadata": {},
   "outputs": [
    {
     "data": {
      "text/plain": [
       "4"
      ]
     },
     "execution_count": 21,
     "metadata": {},
     "output_type": "execute_result"
    }
   ],
   "source": [
    "def max_three(n1 = int, n2 = int, n3 = int):\n",
    "    '''\n",
    "    Funtion that compares three numbers \n",
    "    and returns the greater one.\n",
    "\n",
    "    Arg:\n",
    "    n1: The first number to compare\n",
    "    n2: The second number to compare\n",
    "    n3: The third number to compare\n",
    "\n",
    "    Return:\n",
    "    The greater number of the three compare\n",
    "\n",
    "    Analysis:\n",
    "    a > b > c\n",
    "    b > c\n",
    "    a > c\n",
    "    '''\n",
    "    n = cus_max(n1, n2)\n",
    "    \n",
    "    n= cus_max(n, n3)\n",
    "\n",
    "    return n\n",
    "\n",
    "max_three( 2, 4, 2)"
   ]
  },
  {
   "attachments": {},
   "cell_type": "markdown",
   "metadata": {},
   "source": [
    "3. Escribir una función que tome un carácter y devuelva True si es una vocal, de lo contrario devuelve False."
   ]
  },
  {
   "cell_type": "code",
   "execution_count": 58,
   "metadata": {},
   "outputs": [
    {
     "data": {
      "text/plain": [
       "False"
      ]
     },
     "execution_count": 58,
     "metadata": {},
     "output_type": "execute_result"
    }
   ],
   "source": [
    "def vowel(char = str):\n",
    "    '''\n",
    "    Function that returns true if a letter\n",
    "    is a vowel or does not\n",
    "    \n",
    "    Args:\n",
    "    char: letter that will be analized if is a vowel\n",
    "\n",
    "    Return:\n",
    "    True if is a vowel False if does not\n",
    "    '''\n",
    "\n",
    "    vowels = ['a', 'e', 'i', 'o', \"u\"]\n",
    "    \n",
    "    try:\n",
    "        #char = str(char)\n",
    "        if len(char) != 1 or char == ' ':\n",
    "            raise Exception(' Invalid value')\n",
    "        if char.lower() not in vowels:\n",
    "            return False\n",
    "        else:\n",
    "            return True\n",
    "    except TypeError:\n",
    "        print('Insert a str type character')\n",
    "\n",
    "vowel('k')\n"
   ]
  },
  {
   "attachments": {},
   "cell_type": "markdown",
   "metadata": {},
   "source": [
    "4. Escribir una función sum() y una función multip() que sumen y multipliquen respectivamente todos los números de una lista. Por ejemplo: sum([1,2,3,4]) debería devolver 10 y multip([1,2,3,4]) debería devolver 24."
   ]
  },
  {
   "cell_type": "code",
   "execution_count": 63,
   "metadata": {},
   "outputs": [
    {
     "data": {
      "text/plain": [
       "0"
      ]
     },
     "execution_count": 63,
     "metadata": {},
     "output_type": "execute_result"
    }
   ],
   "source": [
    "def sum_all(nums = list):\n",
    "    '''\n",
    "    Funtion that sums all the numbers in a list\n",
    "    \n",
    "    Args:\n",
    "    nums: list of numbers that will be sumed\n",
    "\n",
    "    Return: \n",
    "    The total sum of all numbers in nums\n",
    "    '''\n",
    "    resul = 0\n",
    "    for num in nums:\n",
    "        try:\n",
    "            resul += num\n",
    "        except TypeError:\n",
    "            return print('All the values must be a number')\n",
    "    return resul\n",
    "\n",
    "def mul_all(nums = list):\n",
    "    '''\n",
    "    Funtion that multiplies all the numbers in a list\n",
    "    \n",
    "    Args:\n",
    "    nums: list of numbers that will be multiplied\n",
    "\n",
    "    Return: \n",
    "    The total multiply of all numbers in nums\n",
    "    '''\n",
    "    resul = 1\n",
    "    for num in nums:\n",
    "        try:\n",
    "            resul *= num\n",
    "        except TypeError:\n",
    "            return print('All the values must be a number')\n",
    "    return resul\n",
    "\n",
    "sum_all([2, 4, 5, 90])\n",
    "mul_all([2, 0, 5, 90])"
   ]
  },
  {
   "attachments": {},
   "cell_type": "markdown",
   "metadata": {},
   "source": [
    "5. Definir una función inversa() que calcule la inversión de una cadena. Por ejemplo la cadena \"estoy probando\" debería devolver la cadena \"odnaborp yotse\""
   ]
  },
  {
   "cell_type": "code",
   "execution_count": 70,
   "metadata": {},
   "outputs": [
    {
     "data": {
      "text/plain": [
       "'odnum aloH'"
      ]
     },
     "execution_count": 70,
     "metadata": {},
     "output_type": "execute_result"
    }
   ],
   "source": [
    "def invert_text(text = str):\n",
    "    '''\n",
    "    Funtion that invert the text in a string\n",
    "    \n",
    "    Args:\n",
    "    text: str that will be inverted\n",
    "\n",
    "    Return: \n",
    "    A string with the inverted text\n",
    "    '''\n",
    "    invert = ''\n",
    "    try:\n",
    "        for letter in text:\n",
    "            invert = letter + invert\n",
    "    except  TypeError:\n",
    "            raise Exception('Insert a text')\n",
    "            \n",
    "    return invert\n",
    "\n",
    "invert_text('Hola mundo')"
   ]
  },
  {
   "attachments": {},
   "cell_type": "markdown",
   "metadata": {},
   "source": [
    " 6. Definir una función es_palindromo() que reconoce palíndromos (es decir, palabras que tienen el mismo aspecto escritas invertidas), ejemplo: es_palindromo (\"radar\") tendría que devolver True"
   ]
  },
  {
   "cell_type": "code",
   "execution_count": 84,
   "metadata": {},
   "outputs": [
    {
     "name": "stdout",
     "output_type": "stream",
     "text": [
      "True\n",
      "True\n",
      "True\n",
      "True\n",
      "True\n",
      "False\n",
      "True\n",
      "True\n",
      "True\n",
      "True\n"
     ]
    }
   ],
   "source": [
    "def is_palindrome(text = str):\n",
    "    '''\n",
    "    Funtion that indicate if a str is a palindrome\n",
    "    \n",
    "    Args:\n",
    "    text: str that will be analized\n",
    "\n",
    "    Return: \n",
    "    True if is a palindrome\n",
    "    False if does not \n",
    "    '''\n",
    "    \n",
    "    no_spaces = ''\n",
    "    palin = False\n",
    "    try:\n",
    "        char_to_erase = [\",\", \".\", \"¡\", \"!\", \"'\", \"?\"]\n",
    "\n",
    "        for caracter in char_to_erase:\n",
    "            text = text.replace(caracter, \"\")\n",
    "        try: \n",
    "            text = str(text.lower())\n",
    "        except AttributeError:\n",
    "            text = str(text)\n",
    "        for letter in text:\n",
    "            if letter != ' ':\n",
    "                 no_spaces += letter\n",
    "        if no_spaces == invert_text(no_spaces):\n",
    "             palin = True        \n",
    "            \n",
    "    except  TypeError:\n",
    "            raise Exception('Insert a text')\n",
    "            \n",
    "    return palin\n",
    "\n",
    "texts=[\"A man, a plan, a canal, Panama.\",\n",
    "\"Madam, in Eden, I'm Adam.\",\n",
    "\"Mr. Owl ate my metal worm.\",\n",
    "\"Was it a car or a cat I saw?\",\n",
    "\"Never odd or even.\",\n",
    "\"Madam Arora teaches malayalam.\",\n",
    "\"Step on no pets.\",\n",
    "\"Rise to vote, sir.\",\n",
    "\"Eva, can I see bees in a cave?\",\n",
    "\"Go hang a salami, I'm a lasagna hog.\"]\n",
    "\n",
    "for text in texts:\n",
    "    print(is_palindrome(text)) "
   ]
  },
  {
   "attachments": {},
   "cell_type": "markdown",
   "metadata": {},
   "source": [
    "7. Definir una función superposicion() que tome dos listas y devuelva True si tienen al menos 1 miembro en común o devuelva False de lo contrario. Escribir la función usando el bucle for anidado."
   ]
  },
  {
   "cell_type": "code",
   "execution_count": 86,
   "metadata": {},
   "outputs": [
    {
     "data": {
      "text/plain": [
       "True"
      ]
     },
     "execution_count": 86,
     "metadata": {},
     "output_type": "execute_result"
    }
   ],
   "source": [
    "def superposition(list1 = list, list2  = list):\n",
    "    '''\n",
    "    Funtion that search a common value between two list\n",
    "\n",
    "    Args: \n",
    "    list1: First list to compare\n",
    "    list2: Second list to compare\n",
    "\n",
    "    Return:\n",
    "    True if exist at leats one common values\n",
    "    False if does not \n",
    "    '''\n",
    "    exist = False\n",
    "    for i in list1:\n",
    "        for j in list2:\n",
    "            if i == j:\n",
    "                exist = True\n",
    "    \n",
    "    return exist\n",
    "\n",
    "superposition([1, 4, 5], ['a', 1])"
   ]
  },
  {
   "attachments": {},
   "cell_type": "markdown",
   "metadata": {},
   "source": [
    "8. Definir una función generar_n_caracteres() que tome un entero n y devuelva el caracter multiplicado por n. Por ejemplo: generar_n_caracteres(5, \"x\") debería devolver \"xxxxx\".\n"
   ]
  },
  {
   "cell_type": "code",
   "execution_count": 104,
   "metadata": {},
   "outputs": [
    {
     "data": {
      "text/plain": [
       "'**********'"
      ]
     },
     "execution_count": 104,
     "metadata": {},
     "output_type": "execute_result"
    }
   ],
   "source": [
    "def generate_n_char(n = int, char = '*'):\n",
    "    '''\n",
    "    Funtion that shows a string of char with n length\n",
    "\n",
    "    Args:\n",
    "    n: length of the string\n",
    "    char: Is the character that the string will be made\n",
    "    Default: '*'\n",
    "\n",
    "    Return:\n",
    "    A string of n char\n",
    "    '''\n",
    "    char = str(char)\n",
    "    aux_list = [char] * n\n",
    "    string = ''\n",
    "    for i in aux_list:\n",
    "        string += i\n",
    "    return string\n",
    "\n",
    "generate_n_char(10)"
   ]
  },
  {
   "attachments": {},
   "cell_type": "markdown",
   "metadata": {},
   "source": [
    "9. Definir un histograma procedimiento() que tome una lista de números enteros e imprima un histograma en la pantalla. Ejemplo: procedimiento([4, 9, 7]) debería imprimir lo siguiente:\n",
    "\n",
    "++++\n",
    "\n",
    "++++++++\n",
    "\n",
    "++++++\n"
   ]
  },
  {
   "cell_type": "code",
   "execution_count": 124,
   "metadata": {},
   "outputs": [
    {
     "name": "stdout",
     "output_type": "stream",
     "text": [
      "*\n",
      "**\n",
      "****\n",
      "*******\n"
     ]
    }
   ],
   "source": [
    "def char_hist(list_num = list, sort_list = False):\n",
    "    '''\n",
    "    Function that shows a character histogram taking \n",
    "    as frecuencies the values of list_num\n",
    "\n",
    "    Args: \n",
    "    list_num: List with the frecuencies to the histogram\n",
    "    sort_list: Bolean that indicates if list_num must be sorted\n",
    "    Default: False\n",
    "\n",
    "    Return\n",
    "    Representation of a histogram sorted or does not\n",
    "    '''\n",
    "\n",
    "    try:\n",
    "        if sort_list:\n",
    "            list_num.sort()\n",
    "    except TypeError:\n",
    "        return ('All values must be an integer')\n",
    "    \n",
    "    for i in list_num:\n",
    "        if type(i) != int:\n",
    "            raise Exception ('All values must be an integer')\n",
    "            \n",
    "    \n",
    "    for i in list_num:\n",
    "        print( generate_n_char(i)\n",
    ")\n",
    "char_hist([1, 7,2, 4], True)\n",
    "     "
   ]
  }
 ],
 "metadata": {
  "kernelspec": {
   "display_name": "Python 3",
   "language": "python",
   "name": "python3"
  },
  "language_info": {
   "codemirror_mode": {
    "name": "ipython",
    "version": 3
   },
   "file_extension": ".py",
   "mimetype": "text/x-python",
   "name": "python",
   "nbconvert_exporter": "python",
   "pygments_lexer": "ipython3",
   "version": "3.11.0"
  },
  "orig_nbformat": 4
 },
 "nbformat": 4,
 "nbformat_minor": 2
}
